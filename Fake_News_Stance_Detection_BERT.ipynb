{
 "cells": [
  {
   "cell_type": "code",
   "execution_count": 1,
   "metadata": {},
   "outputs": [
    {
     "name": "stdout",
     "output_type": "stream",
     "text": [
      "Collecting datasets"
     ]
    },
    {
     "name": "stderr",
     "output_type": "stream",
     "text": [
      "\n",
      "[notice] A new release of pip is available: 23.0.1 -> 24.3.1\n",
      "[notice] To update, run: python.exe -m pip install --upgrade pip\n"
     ]
    },
    {
     "name": "stdout",
     "output_type": "stream",
     "text": [
      "\n",
      "  Downloading datasets-3.1.0-py3-none-any.whl (480 kB)\n",
      "     ---------------------------------------- 0.0/480.6 kB ? eta -:--:--\n",
      "     -------------------------------------  471.0/480.6 kB 9.8 MB/s eta 0:00:01\n",
      "     -------------------------------------- 480.6/480.6 kB 7.5 MB/s eta 0:00:00\n",
      "Collecting tqdm>=4.66.3\n",
      "  Downloading tqdm-4.67.1-py3-none-any.whl (78 kB)\n",
      "     ---------------------------------------- 0.0/78.5 kB ? eta -:--:--\n",
      "     ---------------------------------------- 78.5/78.5 kB 4.3 MB/s eta 0:00:00\n",
      "Collecting aiohttp\n",
      "  Downloading aiohttp-3.11.8-cp310-cp310-win_amd64.whl (441 kB)\n",
      "     ---------------------------------------- 0.0/441.1 kB ? eta -:--:--\n",
      "     ------------------------- ------------ 297.0/441.1 kB 6.1 MB/s eta 0:00:01\n",
      "     -------------------------------------  440.3/441.1 kB 4.6 MB/s eta 0:00:01\n",
      "     -------------------------------------- 441.1/441.1 kB 4.0 MB/s eta 0:00:00\n",
      "Collecting huggingface-hub>=0.23.0\n",
      "  Downloading huggingface_hub-0.26.3-py3-none-any.whl (447 kB)\n",
      "     ---------------------------------------- 0.0/447.6 kB ? eta -:--:--\n",
      "     ------------------------------------  440.3/447.6 kB 13.9 MB/s eta 0:00:01\n",
      "     -------------------------------------- 447.6/447.6 kB 9.5 MB/s eta 0:00:00\n",
      "Collecting dill<0.3.9,>=0.3.0\n",
      "  Downloading dill-0.3.8-py3-none-any.whl (116 kB)\n",
      "     ---------------------------------------- 0.0/116.3 kB ? eta -:--:--\n",
      "     ---------------------------------------- 116.3/116.3 kB ? eta 0:00:00\n",
      "Collecting multiprocess<0.70.17\n",
      "  Downloading multiprocess-0.70.16-py310-none-any.whl (134 kB)\n",
      "     ---------------------------------------- 0.0/134.8 kB ? eta -:--:--\n",
      "     -------------------------------------- 134.8/134.8 kB 8.3 MB/s eta 0:00:00\n",
      "Requirement already satisfied: numpy>=1.17 in c:\\users\\festi\\appdata\\local\\programs\\python\\python310\\lib\\site-packages (from datasets) (2.0.2)\n",
      "Requirement already satisfied: pandas in c:\\users\\festi\\appdata\\local\\programs\\python\\python310\\lib\\site-packages (from datasets) (2.2.3)\n",
      "Collecting filelock\n",
      "  Downloading filelock-3.16.1-py3-none-any.whl (16 kB)\n",
      "Collecting pyarrow>=15.0.0\n",
      "  Downloading pyarrow-18.1.0-cp310-cp310-win_amd64.whl (25.1 MB)\n",
      "     ---------------------------------------- 0.0/25.1 MB ? eta -:--:--\n",
      "      --------------------------------------- 0.4/25.1 MB 7.8 MB/s eta 0:00:04\n",
      "     - -------------------------------------- 1.0/25.1 MB 11.0 MB/s eta 0:00:03\n",
      "     -- ------------------------------------- 1.6/25.1 MB 11.3 MB/s eta 0:00:03\n",
      "     --- ------------------------------------ 2.2/25.1 MB 11.9 MB/s eta 0:00:02\n",
      "     ---- ----------------------------------- 2.9/25.1 MB 12.4 MB/s eta 0:00:02\n",
      "     ----- ---------------------------------- 3.5/25.1 MB 12.6 MB/s eta 0:00:02\n",
      "     ------ --------------------------------- 4.1/25.1 MB 11.9 MB/s eta 0:00:02\n",
      "     ------- -------------------------------- 4.9/25.1 MB 12.4 MB/s eta 0:00:02\n",
      "     -------- ------------------------------- 5.6/25.1 MB 12.7 MB/s eta 0:00:02\n",
      "     --------- ------------------------------ 6.3/25.1 MB 12.9 MB/s eta 0:00:02\n",
      "     ----------- ---------------------------- 6.9/25.1 MB 13.1 MB/s eta 0:00:02\n",
      "     ------------ --------------------------- 7.6/25.1 MB 13.1 MB/s eta 0:00:02\n",
      "     ------------- -------------------------- 8.2/25.1 MB 13.1 MB/s eta 0:00:02\n",
      "     -------------- ------------------------- 8.9/25.1 MB 13.6 MB/s eta 0:00:02\n",
      "     --------------- ------------------------ 9.5/25.1 MB 13.2 MB/s eta 0:00:02\n",
      "     ---------------- ---------------------- 10.4/25.1 MB 13.9 MB/s eta 0:00:02\n",
      "     ----------------- --------------------- 11.3/25.1 MB 13.9 MB/s eta 0:00:01\n",
      "     ------------------- ------------------- 12.2/25.1 MB 14.2 MB/s eta 0:00:01\n",
      "     -------------------- ------------------ 13.0/25.1 MB 14.9 MB/s eta 0:00:01\n",
      "     --------------------- ----------------- 13.9/25.1 MB 14.6 MB/s eta 0:00:01\n",
      "     ----------------------- --------------- 14.9/25.1 MB 15.2 MB/s eta 0:00:01\n",
      "     ------------------------ -------------- 15.9/25.1 MB 15.2 MB/s eta 0:00:01\n",
      "     ------------------------- ------------- 16.7/25.1 MB 15.6 MB/s eta 0:00:01\n",
      "     --------------------------- ----------- 17.7/25.1 MB 15.2 MB/s eta 0:00:01\n",
      "     ---------------------------- ---------- 18.5/25.1 MB 15.6 MB/s eta 0:00:01\n",
      "     ----------------------------- --------- 19.3/25.1 MB 16.0 MB/s eta 0:00:01\n",
      "     ------------------------------- ------- 20.0/25.1 MB 16.0 MB/s eta 0:00:01\n",
      "     -------------------------------- ------ 20.8/25.1 MB 15.6 MB/s eta 0:00:01\n",
      "     --------------------------------- ----- 21.3/25.1 MB 14.9 MB/s eta 0:00:01\n",
      "     ---------------------------------- ---- 22.1/25.1 MB 15.2 MB/s eta 0:00:01\n",
      "     ----------------------------------- --- 23.0/25.1 MB 15.2 MB/s eta 0:00:01\n",
      "     ------------------------------------ -- 23.8/25.1 MB 15.2 MB/s eta 0:00:01\n",
      "     ------------------------------------- - 24.4/25.1 MB 15.2 MB/s eta 0:00:01\n",
      "     --------------------------------------  25.1/25.1 MB 14.9 MB/s eta 0:00:01\n",
      "     --------------------------------------  25.1/25.1 MB 14.9 MB/s eta 0:00:01\n",
      "     --------------------------------------  25.1/25.1 MB 14.9 MB/s eta 0:00:01\n",
      "     --------------------------------------- 25.1/25.1 MB 11.7 MB/s eta 0:00:00\n",
      "Collecting xxhash\n",
      "  Downloading xxhash-3.5.0-cp310-cp310-win_amd64.whl (30 kB)\n",
      "Collecting fsspec[http]<=2024.9.0,>=2023.1.0\n",
      "  Downloading fsspec-2024.9.0-py3-none-any.whl (179 kB)\n",
      "     ---------------------------------------- 0.0/179.3 kB ? eta -:--:--\n",
      "     ------------------------------------- 179.3/179.3 kB 11.3 MB/s eta 0:00:00\n",
      "Collecting pyyaml>=5.1\n",
      "  Downloading PyYAML-6.0.2-cp310-cp310-win_amd64.whl (161 kB)\n",
      "     ---------------------------------------- 0.0/161.8 kB ? eta -:--:--\n",
      "     -------------------------------------- 161.8/161.8 kB 4.7 MB/s eta 0:00:00\n",
      "Requirement already satisfied: requests>=2.32.2 in c:\\users\\festi\\appdata\\local\\programs\\python\\python310\\lib\\site-packages (from datasets) (2.32.3)\n",
      "Requirement already satisfied: packaging in c:\\users\\festi\\appdata\\roaming\\python\\python310\\site-packages (from datasets) (24.2)\n",
      "Collecting attrs>=17.3.0\n",
      "  Downloading attrs-24.2.0-py3-none-any.whl (63 kB)\n",
      "     ---------------------------------------- 0.0/63.0 kB ? eta -:--:--\n",
      "     ---------------------------------------- 63.0/63.0 kB 1.7 MB/s eta 0:00:00\n",
      "Collecting propcache>=0.2.0\n",
      "  Downloading propcache-0.2.0-cp310-cp310-win_amd64.whl (44 kB)\n",
      "     ---------------------------------------- 0.0/45.0 kB ? eta -:--:--\n",
      "     ---------------------------------------- 45.0/45.0 kB 2.2 MB/s eta 0:00:00\n",
      "Collecting aiohappyeyeballs>=2.3.0\n",
      "  Downloading aiohappyeyeballs-2.4.3-py3-none-any.whl (14 kB)\n",
      "Collecting aiosignal>=1.1.2\n",
      "  Downloading aiosignal-1.3.1-py3-none-any.whl (7.6 kB)\n",
      "Collecting async-timeout<6.0,>=4.0\n",
      "  Downloading async_timeout-5.0.1-py3-none-any.whl (6.2 kB)\n",
      "Collecting frozenlist>=1.1.1\n",
      "  Downloading frozenlist-1.5.0-cp310-cp310-win_amd64.whl (51 kB)\n",
      "     ---------------------------------------- 0.0/51.6 kB ? eta -:--:--\n",
      "     ---------------------------------------- 51.6/51.6 kB 1.3 MB/s eta 0:00:00\n",
      "Collecting yarl<2.0,>=1.17.0\n",
      "  Downloading yarl-1.18.0-cp310-cp310-win_amd64.whl (90 kB)\n",
      "     ---------------------------------------- 0.0/90.2 kB ? eta -:--:--\n",
      "     ---------------------------------------- 90.2/90.2 kB 5.0 MB/s eta 0:00:00\n",
      "Collecting multidict<7.0,>=4.5\n",
      "  Downloading multidict-6.1.0-cp310-cp310-win_amd64.whl (28 kB)\n",
      "Requirement already satisfied: typing-extensions>=3.7.4.3 in c:\\users\\festi\\appdata\\roaming\\python\\python310\\site-packages (from huggingface-hub>=0.23.0->datasets) (4.12.2)\n",
      "Requirement already satisfied: urllib3<3,>=1.21.1 in c:\\users\\festi\\appdata\\local\\programs\\python\\python310\\lib\\site-packages (from requests>=2.32.2->datasets) (2.2.3)\n",
      "Requirement already satisfied: certifi>=2017.4.17 in c:\\users\\festi\\appdata\\local\\programs\\python\\python310\\lib\\site-packages (from requests>=2.32.2->datasets) (2024.8.30)\n",
      "Requirement already satisfied: idna<4,>=2.5 in c:\\users\\festi\\appdata\\local\\programs\\python\\python310\\lib\\site-packages (from requests>=2.32.2->datasets) (3.10)\n",
      "Requirement already satisfied: charset-normalizer<4,>=2 in c:\\users\\festi\\appdata\\local\\programs\\python\\python310\\lib\\site-packages (from requests>=2.32.2->datasets) (3.4.0)\n",
      "Requirement already satisfied: colorama in c:\\users\\festi\\appdata\\roaming\\python\\python310\\site-packages (from tqdm>=4.66.3->datasets) (0.4.6)\n",
      "Requirement already satisfied: pytz>=2020.1 in c:\\users\\festi\\appdata\\local\\programs\\python\\python310\\lib\\site-packages (from pandas->datasets) (2024.2)\n",
      "Requirement already satisfied: tzdata>=2022.7 in c:\\users\\festi\\appdata\\local\\programs\\python\\python310\\lib\\site-packages (from pandas->datasets) (2024.2)\n",
      "Requirement already satisfied: python-dateutil>=2.8.2 in c:\\users\\festi\\appdata\\roaming\\python\\python310\\site-packages (from pandas->datasets) (2.9.0.post0)\n",
      "Requirement already satisfied: six>=1.5 in c:\\users\\festi\\appdata\\roaming\\python\\python310\\site-packages (from python-dateutil>=2.8.2->pandas->datasets) (1.16.0)\n",
      "Installing collected packages: xxhash, tqdm, pyyaml, pyarrow, propcache, multidict, fsspec, frozenlist, filelock, dill, attrs, async-timeout, aiohappyeyeballs, yarl, multiprocess, huggingface-hub, aiosignal, aiohttp, datasets\n",
      "Successfully installed aiohappyeyeballs-2.4.3 aiohttp-3.11.8 aiosignal-1.3.1 async-timeout-5.0.1 attrs-24.2.0 datasets-3.1.0 dill-0.3.8 filelock-3.16.1 frozenlist-1.5.0 fsspec-2024.9.0 huggingface-hub-0.26.3 multidict-6.1.0 multiprocess-0.70.16 propcache-0.2.0 pyarrow-18.1.0 pyyaml-6.0.2 tqdm-4.67.1 xxhash-3.5.0 yarl-1.18.0\n"
     ]
    }
   ],
   "source": [
    "%pip install datasets"
   ]
  },
  {
   "cell_type": "code",
   "execution_count": 5,
   "metadata": {},
   "outputs": [
    {
     "name": "stdout",
     "output_type": "stream",
     "text": [
      "Requirement already satisfied: pandas in c:\\users\\festi\\appdata\\local\\programs\\python\\python310\\lib\\site-packages (2.2.3)\n",
      "Requirement already satisfied: pytz>=2020.1 in c:\\users\\festi\\appdata\\local\\programs\\python\\python310\\lib\\site-packages (from pandas) (2024.2)\n",
      "Requirement already satisfied: numpy>=1.22.4 in c:\\users\\festi\\appdata\\local\\programs\\python\\python310\\lib\\site-packages (from pandas) (2.0.2)\n",
      "Requirement already satisfied: python-dateutil>=2.8.2 in c:\\users\\festi\\appdata\\roaming\\python\\python310\\site-packages (from pandas) (2.9.0.post0)\n",
      "Requirement already satisfied: tzdata>=2022.7 in c:\\users\\festi\\appdata\\local\\programs\\python\\python310\\lib\\site-packages (from pandas) (2024.2)\n",
      "Requirement already satisfied: six>=1.5 in c:\\users\\festi\\appdata\\roaming\\python\\python310\\site-packages (from python-dateutil>=2.8.2->pandas) (1.16.0)\n",
      "Note: you may need to restart the kernel to use updated packages.\n"
     ]
    },
    {
     "name": "stderr",
     "output_type": "stream",
     "text": [
      "\n",
      "[notice] A new release of pip is available: 23.0.1 -> 24.3.1\n",
      "[notice] To update, run: python.exe -m pip install --upgrade pip\n"
     ]
    },
    {
     "name": "stdout",
     "output_type": "stream",
     "text": [
      "Requirement already satisfied: numpy in c:\\users\\festi\\appdata\\local\\programs\\python\\python310\\lib\\site-packages (2.0.2)\n",
      "Note: you may need to restart the kernel to use updated packages.\n"
     ]
    },
    {
     "name": "stderr",
     "output_type": "stream",
     "text": [
      "\n",
      "[notice] A new release of pip is available: 23.0.1 -> 24.3.1\n",
      "[notice] To update, run: python.exe -m pip install --upgrade pip\n"
     ]
    }
   ],
   "source": [
    "%pip install pandas\n",
    "%pip install numpy"
   ]
  },
  {
   "cell_type": "code",
   "execution_count": 4,
   "metadata": {},
   "outputs": [],
   "source": [
    "import pandas as pd\n",
    "import numpy as np"
   ]
  },
  {
   "cell_type": "code",
   "execution_count": 7,
   "metadata": {},
   "outputs": [
    {
     "name": "stdout",
     "output_type": "stream",
     "text": [
      "                                               title  \\\n",
      "0  As U.S. budget fight looms, Republicans flip t...   \n",
      "1  U.S. military to accept transgender recruits o...   \n",
      "2  Senior U.S. Republican senator: 'Let Mr. Muell...   \n",
      "3  FBI Russia probe helped by Australian diplomat...   \n",
      "4  Trump wants Postal Service to charge 'much mor...   \n",
      "\n",
      "                                                text       subject  \\\n",
      "0  WASHINGTON (Reuters) - The head of a conservat...  politicsNews   \n",
      "1  WASHINGTON (Reuters) - Transgender people will...  politicsNews   \n",
      "2  WASHINGTON (Reuters) - The special counsel inv...  politicsNews   \n",
      "3  WASHINGTON (Reuters) - Trump campaign adviser ...  politicsNews   \n",
      "4  SEATTLE/WASHINGTON (Reuters) - President Donal...  politicsNews   \n",
      "\n",
      "                 date  \n",
      "0  December 31, 2017   \n",
      "1  December 29, 2017   \n",
      "2  December 31, 2017   \n",
      "3  December 30, 2017   \n",
      "4  December 29, 2017   \n",
      "                                               title  \\\n",
      "0   Donald Trump Sends Out Embarrassing New Year’...   \n",
      "1   Drunk Bragging Trump Staffer Started Russian ...   \n",
      "2   Sheriff David Clarke Becomes An Internet Joke...   \n",
      "3   Trump Is So Obsessed He Even Has Obama’s Name...   \n",
      "4   Pope Francis Just Called Out Donald Trump Dur...   \n",
      "\n",
      "                                                text subject  \\\n",
      "0  Donald Trump just couldn t wish all Americans ...    News   \n",
      "1  House Intelligence Committee Chairman Devin Nu...    News   \n",
      "2  On Friday, it was revealed that former Milwauk...    News   \n",
      "3  On Christmas day, Donald Trump announced that ...    News   \n",
      "4  Pope Francis used his annual Christmas Day mes...    News   \n",
      "\n",
      "                date  \n",
      "0  December 31, 2017  \n",
      "1  December 31, 2017  \n",
      "2  December 30, 2017  \n",
      "3  December 29, 2017  \n",
      "4  December 25, 2017  \n"
     ]
    }
   ],
   "source": [
    "# Load the datasets\n",
    "real_news = pd.read_csv(\"dataset/real_news.csv\")\n",
    "fake_news = pd.read_csv(\"dataset/fake_news.csv\")\n",
    "\n",
    "# Check the first few rows to understand the structure\n",
    "print(real_news.head())\n",
    "print(fake_news.head())"
   ]
  }
 ],
 "metadata": {
  "kernelspec": {
   "display_name": "Python 3",
   "language": "python",
   "name": "python3"
  },
  "language_info": {
   "codemirror_mode": {
    "name": "ipython",
    "version": 3
   },
   "file_extension": ".py",
   "mimetype": "text/x-python",
   "name": "python",
   "nbconvert_exporter": "python",
   "pygments_lexer": "ipython3",
   "version": "3.10.11"
  }
 },
 "nbformat": 4,
 "nbformat_minor": 2
}

{
  "cells": [
    {
      "cell_type": "code",
      "execution_count": 1,
      "metadata": {},
      "outputs": [
        {
          "name": "stdout",
          "output_type": "stream",
          "text": [
            "Requirement already satisfied: pandas in /anaconda/envs/azureml_py38/lib/python3.10/site-packages (1.3.5)\n",
            "Requirement already satisfied: numpy>=1.21.0 in /anaconda/envs/azureml_py38/lib/python3.10/site-packages (from pandas) (1.26.4)\n",
            "Requirement already satisfied: python-dateutil>=2.7.3 in /anaconda/envs/azureml_py38/lib/python3.10/site-packages (from pandas) (2.9.0.post0)\n",
            "Requirement already satisfied: pytz>=2017.3 in /anaconda/envs/azureml_py38/lib/python3.10/site-packages (from pandas) (2022.5)\n",
            "Requirement already satisfied: six>=1.5 in /anaconda/envs/azureml_py38/lib/python3.10/site-packages (from python-dateutil>=2.7.3->pandas) (1.16.0)\n",
            "Requirement already satisfied: nltk in /anaconda/envs/azureml_py38/lib/python3.10/site-packages (3.9.1)\n",
            "Requirement already satisfied: click in /anaconda/envs/azureml_py38/lib/python3.10/site-packages (from nltk) (8.1.7)\n",
            "Requirement already satisfied: regex>=2021.8.3 in /anaconda/envs/azureml_py38/lib/python3.10/site-packages (from nltk) (2024.7.24)\n",
            "Requirement already satisfied: joblib in /anaconda/envs/azureml_py38/lib/python3.10/site-packages (from nltk) (1.2.0)\n",
            "Requirement already satisfied: tqdm in /anaconda/envs/azureml_py38/lib/python3.10/site-packages (from nltk) (4.66.4)\n",
            "Requirement already satisfied: numpy in /anaconda/envs/azureml_py38/lib/python3.10/site-packages (1.26.4)\n",
            "Requirement already satisfied: textblob in /anaconda/envs/azureml_py38/lib/python3.10/site-packages (0.18.0.post0)\n",
            "Requirement already satisfied: nltk>=3.8 in /anaconda/envs/azureml_py38/lib/python3.10/site-packages (from textblob) (3.9.1)\n",
            "Requirement already satisfied: tqdm in /anaconda/envs/azureml_py38/lib/python3.10/site-packages (from nltk>=3.8->textblob) (4.66.4)\n",
            "Requirement already satisfied: joblib in /anaconda/envs/azureml_py38/lib/python3.10/site-packages (from nltk>=3.8->textblob) (1.2.0)\n",
            "Requirement already satisfied: regex>=2021.8.3 in /anaconda/envs/azureml_py38/lib/python3.10/site-packages (from nltk>=3.8->textblob) (2024.7.24)\n",
            "Requirement already satisfied: click in /anaconda/envs/azureml_py38/lib/python3.10/site-packages (from nltk>=3.8->textblob) (8.1.7)\n",
            "Requirement already satisfied: imbalanced-learn in /anaconda/envs/azureml_py38/lib/python3.10/site-packages (0.13.0)\n",
            "Requirement already satisfied: sklearn-compat<1,>=0.1 in /anaconda/envs/azureml_py38/lib/python3.10/site-packages (from imbalanced-learn) (0.1.3)\n",
            "Requirement already satisfied: threadpoolctl<4,>=2.0.0 in /anaconda/envs/azureml_py38/lib/python3.10/site-packages (from imbalanced-learn) (3.5.0)\n",
            "Requirement already satisfied: joblib<2,>=1.1.1 in /anaconda/envs/azureml_py38/lib/python3.10/site-packages (from imbalanced-learn) (1.2.0)\n",
            "Requirement already satisfied: numpy<3,>=1.24.3 in /anaconda/envs/azureml_py38/lib/python3.10/site-packages (from imbalanced-learn) (1.26.4)\n",
            "Requirement already satisfied: scikit-learn<2,>=1.3.2 in /anaconda/envs/azureml_py38/lib/python3.10/site-packages (from imbalanced-learn) (1.5.1)\n",
            "Requirement already satisfied: scipy<2,>=1.10.1 in /anaconda/envs/azureml_py38/lib/python3.10/site-packages (from imbalanced-learn) (1.10.1)\n"
          ]
        }
      ],
      "source": [
        "!pip install pandas\n",
        "!pip install nltk\n",
        "!pip install numpy\n",
        "!pip install textblob \n",
        "!pip install imbalanced-learn\n"
      ]
    },
    {
      "cell_type": "code",
      "execution_count": 2,
      "metadata": {
        "gather": {
          "logged": 1734867341001
        },
        "jupyter": {
          "outputs_hidden": false,
          "source_hidden": false
        },
        "nteract": {
          "transient": {
            "deleting": false
          }
        }
      },
      "outputs": [
        {
          "name": "stderr",
          "output_type": "stream",
          "text": [
            "/anaconda/envs/azureml_py38/lib/python3.10/site-packages/torch/cuda/__init__.py:654: UserWarning: Can't initialize NVML\n",
            "  warnings.warn(\"Can't initialize NVML\")\n",
            "/anaconda/envs/azureml_py38/lib/python3.10/site-packages/transformers/utils/generic.py:441: FutureWarning: `torch.utils._pytree._register_pytree_node` is deprecated. Please use `torch.utils._pytree.register_pytree_node` instead.\n",
            "  _torch_pytree._register_pytree_node(\n",
            "2024-12-22 11:35:38.430339: I tensorflow/core/util/port.cc:153] oneDNN custom operations are on. You may see slightly different numerical results due to floating-point round-off errors from different computation orders. To turn them off, set the environment variable `TF_ENABLE_ONEDNN_OPTS=0`.\n",
            "2024-12-22 11:35:38.447295: E external/local_xla/xla/stream_executor/cuda/cuda_fft.cc:485] Unable to register cuFFT factory: Attempting to register factory for plugin cuFFT when one has already been registered\n",
            "2024-12-22 11:35:38.467506: E external/local_xla/xla/stream_executor/cuda/cuda_dnn.cc:8454] Unable to register cuDNN factory: Attempting to register factory for plugin cuDNN when one has already been registered\n",
            "2024-12-22 11:35:38.473545: E external/local_xla/xla/stream_executor/cuda/cuda_blas.cc:1452] Unable to register cuBLAS factory: Attempting to register factory for plugin cuBLAS when one has already been registered\n",
            "2024-12-22 11:35:38.489207: I tensorflow/core/platform/cpu_feature_guard.cc:210] This TensorFlow binary is optimized to use available CPU instructions in performance-critical operations.\n",
            "To enable the following instructions: AVX2 AVX512F AVX512_VNNI FMA, in other operations, rebuild TensorFlow with the appropriate compiler flags.\n",
            "2024-12-22 11:35:39.697400: W tensorflow/compiler/tf2tensorrt/utils/py_utils.cc:38] TF-TRT Warning: Could not find TensorRT\n",
            "/anaconda/envs/azureml_py38/lib/python3.10/site-packages/transformers/utils/generic.py:309: FutureWarning: `torch.utils._pytree._register_pytree_node` is deprecated. Please use `torch.utils._pytree.register_pytree_node` instead.\n",
            "  _torch_pytree._register_pytree_node(\n",
            "[nltk_data] Downloading package stopwords to\n",
            "[nltk_data]     /home/azureuser/nltk_data...\n",
            "[nltk_data]   Package stopwords is already up-to-date!\n",
            "[nltk_data] Downloading package wordnet to\n",
            "[nltk_data]     /home/azureuser/nltk_data...\n",
            "[nltk_data]   Package wordnet is already up-to-date!\n"
          ]
        }
      ],
      "source": [
        "import pandas as pd\n",
        "import numpy as np\n",
        "import re\n",
        "import nltk\n",
        "from nltk.corpus import stopwords, wordnet\n",
        "from nltk.stem import WordNetLemmatizer\n",
        "from sklearn.model_selection import train_test_split\n",
        "from sklearn.feature_extraction.text import TfidfVectorizer\n",
        "from sklearn.linear_model import LogisticRegression\n",
        "from sklearn.metrics import classification_report, accuracy_score\n",
        "import spacy\n",
        "from transformers import pipeline, BertTokenizer, BertForSequenceClassification, AdamW\n",
        "from torch.utils.data import DataLoader, TensorDataset\n",
        "import torch\n",
        "from collections import Counter\n",
        "\n",
        "# Set random seed for reproducibility\n",
        "import random\n",
        "random.seed(42)\n",
        "np.random.seed(42)\n",
        "torch.manual_seed(42)\n",
        "\n",
        "nltk.download('stopwords')\n",
        "nltk.download('wordnet')\n",
        "stop_words = set(stopwords.words(\"english\"))\n",
        "lemmatizer = WordNetLemmatizer()\n",
        "nlp = spacy.load('en_core_web_sm')\n"
      ]
    },
    {
      "cell_type": "code",
      "execution_count": 3,
      "metadata": {
        "gather": {
          "logged": 1734867341179
        },
        "jupyter": {
          "outputs_hidden": false,
          "source_hidden": false
        },
        "nteract": {
          "transient": {
            "deleting": false
          }
        }
      },
      "outputs": [],
      "source": [
        "\n",
        "try:\n",
        "    bodies = pd.read_csv(\"train_bodies.csv\")\n",
        "    stances = pd.read_csv(\"train_stances.csv\")\n",
        "except FileNotFoundError as e:\n",
        "    print(f\"Error: {e}\")\n",
        "    print(\"Please ensure that the files 'train_bodies.csv' and 'train_stances.csv' are in the correct directory.\")\n",
        "    raise\n",
        "\n",
        "data = pd.merge(stances, bodies, on=\"Body ID\")"
      ]
    },
    {
      "cell_type": "code",
      "execution_count": 4,
      "metadata": {
        "gather": {
          "logged": 1734867341383
        },
        "jupyter": {
          "outputs_hidden": false,
          "source_hidden": false
        },
        "nteract": {
          "transient": {
            "deleting": false
          }
        }
      },
      "outputs": [
        {
          "name": "stdout",
          "output_type": "stream",
          "text": [
            "Index(['Headline', 'Body ID', 'Stance', 'articleBody'], dtype='object')\n",
            "<bound method NDFrame.describe of                                                 Headline  Body ID     Stance  \\\n",
            "0      Police find mass graves with at least '15 bodi...      712  unrelated   \n",
            "1               Seth Rogen to Play Apple’s Steve Wozniak      712    discuss   \n",
            "2      Mexico police find mass grave near site 43 stu...      712  unrelated   \n",
            "3      Mexico Says Missing Students Not Found In Firs...      712  unrelated   \n",
            "4      New iOS 8 bug can delete all of your iCloud do...      712  unrelated   \n",
            "...                                                  ...      ...        ...   \n",
            "49967  Amazon Is Opening a Brick-and-Mortar Store in ...      464      agree   \n",
            "49968  Elon University has not banned the term ‘fresh...      362      agree   \n",
            "49969  Fake BBC News website set up to carry Charlie ...      915      agree   \n",
            "49970  Apple was forced to nix key health features fr...      407    discuss   \n",
            "49971  If you want an Apple Watch, you’ll probably be...     1066    discuss   \n",
            "\n",
            "                                             articleBody  \n",
            "0      Danny Boyle is directing the untitled film\\n\\n...  \n",
            "1      Danny Boyle is directing the untitled film\\n\\n...  \n",
            "2      Danny Boyle is directing the untitled film\\n\\n...  \n",
            "3      Danny Boyle is directing the untitled film\\n\\n...  \n",
            "4      Danny Boyle is directing the untitled film\\n\\n...  \n",
            "...                                                  ...  \n",
            "49967  Amazon, the cyber store that sells everything,...  \n",
            "49968  ELON, N.C. – A recent rumor claims that Elon U...  \n",
            "49969  A realistic-looking fake BBC News website has ...  \n",
            "49970  The health-focused smartwatch that Apple initi...  \n",
            "49971  We still don’t know the exact date the Apple W...  \n",
            "\n",
            "[49972 rows x 4 columns]>\n"
          ]
        }
      ],
      "source": [
        "print(data.columns)\n",
        "print(data.describe)\n"
      ]
    },
    {
      "cell_type": "code",
      "execution_count": 5,
      "metadata": {
        "gather": {
          "logged": 1734870543776
        },
        "jupyter": {
          "outputs_hidden": false,
          "source_hidden": false
        },
        "nteract": {
          "transient": {
            "deleting": false
          }
        }
      },
      "outputs": [
        {
          "name": "stderr",
          "output_type": "stream",
          "text": [
            "[nltk_data] Downloading package punkt to /home/azureuser/nltk_data...\n",
            "[nltk_data]   Package punkt is already up-to-date!\n",
            "[nltk_data] Downloading package wordnet to\n",
            "[nltk_data]     /home/azureuser/nltk_data...\n",
            "[nltk_data]   Package wordnet is already up-to-date!\n",
            "[nltk_data] Downloading package punkt_tab to\n",
            "[nltk_data]     /home/azureuser/nltk_data...\n",
            "[nltk_data]   Package punkt_tab is already up-to-date!\n",
            "100%|█████████▉| 49953/49972 [50:26<00:01, 17.90it/s]  \n"
          ]
        }
      ],
      "source": [
        "import pandas as pd\n",
        "import spacy\n",
        "from sklearn.preprocessing import LabelEncoder\n",
        "from collections import Counter\n",
        "from tqdm import tqdm\n",
        "import nltk\n",
        "from nltk.tokenize import word_tokenize\n",
        "from nltk.stem import WordNetLemmatizer\n",
        "from textblob import TextBlob\n",
        "\n",
        "# Load SpaCy model for NER\n",
        "nlp = spacy.load(\"en_core_web_sm\")\n",
        "\n",
        "# Initialize NLTK lemmatizer\n",
        "nltk.download('punkt')\n",
        "nltk.download('wordnet')\n",
        "nltk.download('punkt_tab')\n",
        "lemmatizer = WordNetLemmatizer()\n",
        "\n",
        "# Preprocessing: Tokenization, Lemmatization, and Stance Detection\n",
        "def preprocess_text(text):\n",
        "    # Tokenization and Lemmatization\n",
        "    tokens = word_tokenize(text.lower())\n",
        "    lemmatized_tokens = [lemmatizer.lemmatize(token) for token in tokens if token.isalpha()]\n",
        "    return \" \".join(lemmatized_tokens)\n",
        "\n",
        "def preprocess_data(data):\n",
        "    # Apply text preprocessing on both headline and body\n",
        "    data['clean_headline'] = data['Headline'].apply(preprocess_text)\n",
        "    data['clean_body'] = data['articleBody'].apply(preprocess_text)\n",
        "    return data\n",
        "\n",
        "# NER Feature Extraction\n",
        "def extract_entities(text):\n",
        "    doc = nlp(text)\n",
        "    if not doc.ents:  # No entities found, return empty lists\n",
        "        return [], []\n",
        "    entities = [ent.text for ent in doc.ents]\n",
        "    labels = [ent.label_ for ent in doc.ents]\n",
        "    return entities, labels\n",
        "\n",
        "# Sentiment Analysis Function\n",
        "def get_sentiment(text):\n",
        "    blob = TextBlob(text)\n",
        "    sentiment = blob.sentiment.polarity\n",
        "    return sentiment\n",
        "\n",
        "# Feature Extraction Function\n",
        "def extract_features(headline, body):\n",
        "    # NER Features\n",
        "    headline_entities, headline_labels = extract_entities(headline)\n",
        "    body_entities, body_labels = extract_entities(body)\n",
        "    \n",
        "    # Sentiment Features\n",
        "    headline_sentiment = get_sentiment(headline)\n",
        "    body_sentiment = get_sentiment(body)\n",
        "    \n",
        "    # Overlap Features\n",
        "    entity_overlap = len(set(headline_entities) & set(body_entities))\n",
        "    headline_person_count = headline_labels.count(\"PERSON\")\n",
        "    headline_org_count = headline_labels.count(\"ORG\")\n",
        "    body_person_count = body_labels.count(\"PERSON\")\n",
        "    body_org_count = body_labels.count(\"ORG\")\n",
        "\n",
        "    return {\n",
        "        'entity_overlap': entity_overlap,\n",
        "        'headline_person_count': headline_person_count,\n",
        "        'headline_org_count': headline_org_count,\n",
        "        'body_person_count': body_person_count,\n",
        "        'body_org_count': body_org_count,\n",
        "        'headline_sentiment': headline_sentiment,\n",
        "        'body_sentiment': body_sentiment\n",
        "    }\n",
        "\n",
        "# Label Encoding for stance classification\n",
        "def encode_stance(data):\n",
        "    encoder = LabelEncoder()\n",
        "    data['stance_encoded'] = encoder.fit_transform(data['Stance'])\n",
        "    return data\n",
        "\n",
        "# Main preprocessing pipeline\n",
        "def preprocess_and_extract_features(data):\n",
        "    # Preprocess text\n",
        "    data = preprocess_data(data)\n",
        "\n",
        "    # Encode stance\n",
        "    data = encode_stance(data)\n",
        "\n",
        "    # Apply feature extraction\n",
        "    features = []\n",
        "    for idx, row in tqdm(data.iterrows(), total=data.shape[0]):\n",
        "        headline = row['clean_headline']\n",
        "        body = row['clean_body']\n",
        "        feature = extract_features(headline, body)\n",
        "        features.append(feature)\n",
        "\n",
        "    # Convert features to DataFrame\n",
        "    features_df = pd.DataFrame(features)\n",
        "\n",
        "    # Combine features with original data\n",
        "    data = pd.concat([data, features_df], axis=1)\n",
        "\n",
        "    return data\n",
        "\n",
        "# Load data\n",
        "bodies = pd.read_csv(\"train_bodies.csv\")\n",
        "stances = pd.read_csv(\"train_stances.csv\")\n",
        "data = pd.merge(stances, bodies, on=\"Body ID\")\n",
        "# Sample data for processing\n",
        "\n",
        "# Apply preprocessing and feature extraction\n",
        "processed_data = preprocess_and_extract_features(data)\n",
        "\n",
        "# Print the processed data with features\n",
        "print(processed_data.head())\n"
      ]
    },
    {
      "cell_type": "code",
      "execution_count": 10,
      "metadata": {
        "gather": {
          "logged": 1734870623268
        },
        "jupyter": {
          "outputs_hidden": false,
          "source_hidden": false
        },
        "nteract": {
          "transient": {
            "deleting": false
          }
        }
      },
      "outputs": [
        {
          "name": "stdout",
          "output_type": "stream",
          "text": [
            "49972\n"
          ]
        }
      ],
      "source": [
        "print(processed_data.shape[0])"
      ]
    },
    {
      "cell_type": "code",
      "execution_count": 11,
      "metadata": {
        "gather": {
          "logged": 1734870624780
        },
        "jupyter": {
          "outputs_hidden": false,
          "source_hidden": false
        },
        "nteract": {
          "transient": {
            "deleting": false
          }
        }
      },
      "outputs": [
        {
          "name": "stdout",
          "output_type": "stream",
          "text": [
            "Train set size: 39977\n",
            "Test set size: 4997\n",
            "Validation set size: 4998\n"
          ]
        }
      ],
      "source": [
        "from sklearn.model_selection import train_test_split\n",
        "\n",
        "# Define features (X) and labels (y)\n",
        "feature_columns = [\n",
        "    'entity_overlap', 'headline_person_count', 'headline_org_count',\n",
        "    'body_person_count', 'body_org_count', 'headline_sentiment', 'body_sentiment'\n",
        "]\n",
        "X = processed_data[feature_columns].fillna(0)  # Fill NaN values with 0\n",
        "y = processed_data['stance_encoded']\n",
        "\n",
        "# Use text columns (headline and body) for BERT model\n",
        "X_text = processed_data[['clean_headline', 'clean_body']]  # Use the text columns for BERT model\n",
        "\n",
        "# Split into train and temp (test + validation) sets\n",
        "X_train, X_temp, y_train, y_temp, X_text_train, X_text_temp = train_test_split(\n",
        "    X, y, X_text, test_size=0.2, random_state=42\n",
        ")\n",
        "\n",
        "# Split temp into test and validation sets\n",
        "X_test, X_val, y_test, y_val, X_text_test, X_text_val = train_test_split(\n",
        "    X_temp, y_temp, X_text_temp, test_size=0.5, random_state=42\n",
        ")\n",
        "\n",
        "# Print the sizes of each set\n",
        "print(f\"Train set size: {X_train.shape[0]}\")\n",
        "print(f\"Test set size: {X_test.shape[0]}\")\n",
        "print(f\"Validation set size: {X_val.shape[0]}\")\n"
      ]
    },
    {
      "cell_type": "code",
      "execution_count": 12,
      "metadata": {
        "gather": {
          "logged": 1734870626796
        },
        "jupyter": {
          "outputs_hidden": false,
          "source_hidden": false
        },
        "nteract": {
          "transient": {
            "deleting": false
          }
        }
      },
      "outputs": [],
      "source": [
        "from sklearn.model_selection import train_test_split\n",
        "\n",
        "# Define features (X) and labels (y)\n",
        "feature_columns = [\n",
        "    'entity_overlap', 'headline_person_count', 'headline_org_count',\n",
        "    'body_person_count', 'body_org_count', 'headline_sentiment', 'body_sentiment'\n",
        "]\n",
        "X = processed_data[feature_columns].fillna(0)  # Fill NaN values with 0\n",
        "y = processed_data['stance_encoded']\n",
        "\n",
        "# Split into train and temporary sets (80% train, 20% temp)\n",
        "X_train, X_temp, y_train, y_temp = train_test_split(X, y, test_size=0.2, random_state=42, stratify=y)\n",
        "\n",
        "# Now split the temporary set into test and validation sets (50% test, 50% validation)\n",
        "X_test, X_val, y_test, y_val = train_test_split(X_temp, y_temp, test_size=0.5, random_state=42, stratify=y_temp)\n"
      ]
    },
    {
      "cell_type": "code",
      "execution_count": 16,
      "metadata": {
        "gather": {
          "logged": 1734870671920
        },
        "jupyter": {
          "outputs_hidden": false,
          "source_hidden": false
        },
        "nteract": {
          "transient": {
            "deleting": false
          }
        }
      },
      "outputs": [
        {
          "name": "stdout",
          "output_type": "stream",
          "text": [
            "Training data size: 39977\n",
            "Test data size: 4997\n",
            "Validation data size: 4998\n",
            "\n",
            "=== Accuracy Scores ===\n",
            "Training Accuracy: 0.8013\n",
            "Test Accuracy: 0.7987\n",
            "Validation Accuracy: 0.8059\n",
            "\n",
            "=== Confusion Matrix for Test Set ===\n"
          ]
        },
        {
          "data": {
            "image/png": "[encoded data removed]",
            "text/plain": [
              "<Figure size 800x600 with 2 Axes>"
            ]
          },
          "metadata": {},
          "output_type": "display_data"
        },
        {
          "name": "stdout",
          "output_type": "stream",
          "text": [
            "\n",
            "Model saved as 'logistic_regression_stance_model.pkl'\n",
            "Scaler saved as 'scaler.pkl'\n"
          ]
        }
      ],
      "source": [
        "from sklearn.linear_model import LogisticRegression\n",
        "from sklearn.metrics import accuracy_score, classification_report, confusion_matrix\n",
        "from sklearn.preprocessing import StandardScaler\n",
        "import joblib\n",
        "import matplotlib.pyplot as plt\n",
        "import seaborn as sns\n",
        "\n",
        "# Ensure that the data is split properly and check the sizes\n",
        "print(f\"Training data size: {X_train.shape[0]}\")\n",
        "print(f\"Test data size: {X_test.shape[0]}\")\n",
        "print(f\"Validation data size: {X_val.shape[0]}\")\n",
        "\n",
        "# 1. Preprocessing: Standardize the features\n",
        "scaler = StandardScaler()\n",
        "X_train_scaled = scaler.fit_transform(X_train)\n",
        "X_test_scaled = scaler.transform(X_test)\n",
        "X_val_scaled = scaler.transform(X_val)\n",
        "\n",
        "# 2. Initialize and train Logistic Regression model\n",
        "log_reg = LogisticRegression(max_iter=1000, random_state=42)\n",
        "log_reg.fit(X_train_scaled, y_train)\n",
        "\n",
        "# 3. Predictions\n",
        "y_train_pred = log_reg.predict(X_train_scaled)\n",
        "y_test_pred = log_reg.predict(X_test_scaled)\n",
        "y_val_pred = log_reg.predict(X_val_scaled)\n",
        "\n",
        "# 5. Accuracy Scores\n",
        "train_accuracy = accuracy_score(y_train, y_train_pred)\n",
        "test_accuracy = accuracy_score(y_test, y_test_pred)\n",
        "val_accuracy = accuracy_score(y_val, y_val_pred)\n",
        "\n",
        "print(\"\\n=== Accuracy Scores ===\")\n",
        "print(f\"Training Accuracy: {train_accuracy:.4f}\")\n",
        "print(f\"Test Accuracy: {test_accuracy:.4f}\")\n",
        "print(f\"Validation Accuracy: {val_accuracy:.4f}\")\n",
        "\n",
        "# 6. Confusion Matrix for Test Set\n",
        "print(\"\\n=== Confusion Matrix for Test Set ===\")\n",
        "cm = confusion_matrix(y_test, y_test_pred)\n",
        "plt.figure(figsize=(8, 6))\n",
        "sns.heatmap(cm, annot=True, fmt='d', cmap=\"Blues\", xticklabels=log_reg.classes_, yticklabels=log_reg.classes_)\n",
        "plt.title('Confusion Matrix - Test Set')\n",
        "plt.xlabel('Predicted Labels')\n",
        "plt.ylabel('True Labels')\n",
        "plt.show()\n",
        "\n",
        "# 7. Save the trained model\n",
        "joblib.dump(log_reg, 'logistic_regression_stance_model.pkl')\n",
        "print(\"\\nModel saved as 'logistic_regression_stance_model.pkl'\")\n",
        "\n",
        "# 8. Save the scaler (for later use on new data)\n",
        "joblib.dump(scaler, 'scaler.pkl')\n",
        "print(\"Scaler saved as 'scaler.pkl'\")\n"
      ]
    },
    {
      "cell_type": "code",
      "execution_count": 17,
      "metadata": {
        "gather": {
          "logged": 1734870683800
        },
        "jupyter": {
          "outputs_hidden": false,
          "source_hidden": false
        },
        "nteract": {
          "transient": {
            "deleting": false
          }
        }
      },
      "outputs": [
        {
          "name": "stdout",
          "output_type": "stream",
          "text": [
            "Train Data Columns: Index(['entity_overlap', 'headline_person_count', 'headline_org_count',\n",
            "       'body_person_count', 'body_org_count', 'headline_sentiment',\n",
            "       'body_sentiment'],\n",
            "      dtype='object')\n",
            "Test Data Columns: Index(['entity_overlap', 'headline_person_count', 'headline_org_count',\n",
            "       'body_person_count', 'body_org_count', 'headline_sentiment',\n",
            "       'body_sentiment'],\n",
            "      dtype='object')\n",
            "Validation Data Columns: Index(['entity_overlap', 'headline_person_count', 'headline_org_count',\n",
            "       'body_person_count', 'body_org_count', 'headline_sentiment',\n",
            "       'body_sentiment'],\n",
            "      dtype='object')\n"
          ]
        }
      ],
      "source": [
        "# 1. Check column names to ensure the correct text column\n",
        "print(\"Train Data Columns:\", X_train.columns)\n",
        "print(\"Test Data Columns:\", X_test.columns)\n",
        "print(\"Validation Data Columns:\", X_val.columns)\n"
      ]
    },
    {
      "cell_type": "code",
      "execution_count": 21,
      "metadata": {
        "gather": {
          "logged": 1734870859175
        },
        "jupyter": {
          "outputs_hidden": false,
          "source_hidden": false
        },
        "nteract": {
          "transient": {
            "deleting": false
          }
        }
      },
      "outputs": [
        {
          "name": "stderr",
          "output_type": "stream",
          "text": [
            "/anaconda/envs/azureml_py38/lib/python3.10/site-packages/xgboost/core.py:158: UserWarning: [12:34:19] WARNING: /workspace/src/learner.cc:740: \n",
            "Parameters: { \"use_label_encoder\" } are not used.\n",
            "\n",
            "  if not lib_paths:\n"
          ]
        },
        {
          "name": "stdout",
          "output_type": "stream",
          "text": [
            "Training Accuracy (XGBoost): 0.8634\n",
            "Test Accuracy (XGBoost): 0.8395\n",
            "Validation Accuracy (XGBoost): 0.8361\n",
            "Confusion Matrix for Test Set (XGBoost):\n"
          ]
        },
        {
          "data": {
            "image/png": "[encoded data removed]",
            "text/plain": [
              "<Figure size 800x600 with 2 Axes>"
            ]
          },
          "metadata": {},
          "output_type": "display_data"
        },
        {
          "name": "stdout",
          "output_type": "stream",
          "text": [
            "XGBoost model saved as 'xgboost_stance_model.pkl'\n",
            "Scaler saved as 'scaler_xgb.pkl'\n"
          ]
        }
      ],
      "source": [
        "import xgboost as xgb\n",
        "from sklearn.metrics import accuracy_score, classification_report, confusion_matrix\n",
        "import joblib\n",
        "import matplotlib.pyplot as plt\n",
        "import seaborn as sns\n",
        "\n",
        "# 1. Initialize and train XGBoost model\n",
        "xgb_model = xgb.XGBClassifier(eval_metric='mlogloss', random_state=42, use_label_encoder=False)\n",
        "xgb_model.fit(X_train_scaled, y_train)\n",
        "\n",
        "# 2. Predictions\n",
        "y_train_pred_xgb = xgb_model.predict(X_train_scaled)\n",
        "y_test_pred_xgb = xgb_model.predict(X_test_scaled)\n",
        "y_val_pred_xgb = xgb_model.predict(X_val_scaled)\n",
        "\n",
        "\n",
        "# 4. Accuracy Scores\n",
        "train_accuracy_xgb = accuracy_score(y_train, y_train_pred_xgb)\n",
        "test_accuracy_xgb = accuracy_score(y_test, y_test_pred_xgb)\n",
        "val_accuracy_xgb = accuracy_score(y_val, y_val_pred_xgb)\n",
        "\n",
        "print(f\"Training Accuracy (XGBoost): {train_accuracy_xgb:.4f}\")\n",
        "print(f\"Test Accuracy (XGBoost): {test_accuracy_xgb:.4f}\")\n",
        "print(f\"Validation Accuracy (XGBoost): {val_accuracy_xgb:.4f}\")\n",
        "\n",
        "# 5. Confusion Matrix\n",
        "print(\"Confusion Matrix for Test Set (XGBoost):\")\n",
        "cm_xgb = confusion_matrix(y_test, y_test_pred_xgb)\n",
        "plt.figure(figsize=(8, 6))\n",
        "sns.heatmap(cm_xgb, annot=True, fmt='d', cmap=\"Blues\", xticklabels=xgb_model.classes_, yticklabels=xgb_model.classes_)\n",
        "plt.title('Confusion Matrix - Test Set (XGBoost)')\n",
        "plt.xlabel('Predicted Labels')\n",
        "plt.ylabel('True Labels')\n",
        "plt.show()\n",
        "\n",
        "# 6. Save the trained model\n",
        "joblib.dump(xgb_model, 'xgboost_stance_model.pkl')\n",
        "print(\"XGBoost model saved as 'xgboost_stance_model.pkl'\")\n",
        "\n",
        "# 7. Save the scaler (for later use on new data)\n",
        "joblib.dump(scaler, 'scaler_xgb.pkl')\n",
        "print(\"Scaler saved as 'scaler_xgb.pkl'\")\n"
      ]
    },
    {
      "cell_type": "code",
      "execution_count": 4,
      "metadata": {
        "gather": {
          "logged": 1734885486089
        },
        "jupyter": {
          "outputs_hidden": false,
          "source_hidden": false
        },
        "nteract": {
          "transient": {
            "deleting": false
          }
        }
      },
      "outputs": [
        {
          "name": "stderr",
          "output_type": "stream",
          "text": [
            "/anaconda/envs/azureml_py38/lib/python3.10/site-packages/huggingface_hub/file_download.py:1150: FutureWarning: `resume_download` is deprecated and will be removed in version 1.0.0. Downloads always resume when possible. If you want to force a new download, use `force_download=True`.\n",
            "  warnings.warn(\n",
            "Some weights of DistilBertForSequenceClassification were not initialized from the model checkpoint at distilbert-base-uncased and are newly initialized: ['pre_classifier.weight', 'classifier.bias', 'pre_classifier.bias', 'classifier.weight']\n",
            "You should probably TRAIN this model on a down-stream task to be able to use it for predictions and inference.\n",
            "/anaconda/envs/azureml_py38/lib/python3.10/site-packages/torch/cuda/__init__.py:654: UserWarning: Can't initialize NVML\n",
            "  warnings.warn(\"Can't initialize NVML\")\n",
            "/anaconda/envs/azureml_py38/lib/python3.10/site-packages/accelerate/accelerator.py:451: FutureWarning: Passing the following arguments to `Accelerator` is deprecated and will be removed in version 1.0 of Accelerate: dict_keys(['dispatch_batches', 'split_batches']). Please pass an `accelerate.DataLoaderConfiguration` instead: \n",
            "dataloader_config = DataLoaderConfiguration(dispatch_batches=None, split_batches=False)\n",
            "  warnings.warn(\n",
            "2024/12/22 15:58:33 INFO mlflow.tracking._tracking_service.client: 🏃 View run shy_jackal_y26m7j8h at: https://germanywestcentral.api.azureml.ms/mlflow/v2.0/subscriptions/1575d3d8-448d-42e2-b4d7-046abd13ef0a/resourceGroups/festina.qorrolli-rg/providers/Microsoft.MachineLearningServices/workspaces/fake-news-detection/#/experiments/66b00c20-dd83-40c0-ace4-b5e2e9ce1b02/runs/22cd3524-547b-4db2-b517-711e815e00b8.\n",
            "2024/12/22 15:58:33 INFO mlflow.tracking._tracking_service.client: 🧪 View experiment at: https://germanywestcentral.api.azureml.ms/mlflow/v2.0/subscriptions/1575d3d8-448d-42e2-b4d7-046abd13ef0a/resourceGroups/festina.qorrolli-rg/providers/Microsoft.MachineLearningServices/workspaces/fake-news-detection/#/experiments/66b00c20-dd83-40c0-ace4-b5e2e9ce1b02.\n"
          ]
        },
        {
          "data": {
            "text/html": [
              "\n",
              "    <div>\n",
              "      \n",
              "      <progress value='1000' max='1000' style='width:300px; height:20px; vertical-align: middle;'></progress>\n",
              "      [1000/1000 34:42, Epoch 2/2]\n",
              "    </div>\n",
              "    <table border=\"1\" class=\"dataframe\">\n",
              "  <thead>\n",
              " <tr style=\"text-align: left;\">\n",
              "      <th>Epoch</th>\n",
              "      <th>Training Loss</th>\n",
              "      <th>Validation Loss</th>\n",
              "    </tr>\n",
              "  </thead>\n",
              "  <tbody>\n",
              "    <tr>\n",
              "      <td>1</td>\n",
              "      <td>0.469500</td>\n",
              "      <td>0.315968</td>\n",
              "    </tr>\n",
              "    <tr>\n",
              "      <td>2</td>\n",
              "      <td>0.245100</td>\n",
              "      <td>0.300225</td>\n",
              "    </tr>\n",
              "  </tbody>\n",
              "</table><p>"
            ],
            "text/plain": [
              "<IPython.core.display.HTML object>"
            ]
          },
          "metadata": {},
          "output_type": "display_data"
        },
        {
          "name": "stderr",
          "output_type": "stream",
          "text": [
            "Checkpoint destination directory ./results/checkpoint-500 already exists and is non-empty.Saving will proceed but saved results may be invalid.\n",
            "Checkpoint destination directory ./results/checkpoint-1000 already exists and is non-empty.Saving will proceed but saved results may be invalid.\n",
            "2024/12/22 16:33:17 INFO mlflow.tracking._tracking_service.client: 🏃 View run ./results at: https://germanywestcentral.api.azureml.ms/mlflow/v2.0/subscriptions/1575d3d8-448d-42e2-b4d7-046abd13ef0a/resourceGroups/festina.qorrolli-rg/providers/Microsoft.MachineLearningServices/workspaces/fake-news-detection/#/experiments/66b00c20-dd83-40c0-ace4-b5e2e9ce1b02/runs/dc7cb2b5-d7cf-4b2b-a8e8-746a8527d199.\n",
            "2024/12/22 16:33:17 INFO mlflow.tracking._tracking_service.client: 🧪 View experiment at: https://germanywestcentral.api.azureml.ms/mlflow/v2.0/subscriptions/1575d3d8-448d-42e2-b4d7-046abd13ef0a/resourceGroups/festina.qorrolli-rg/providers/Microsoft.MachineLearningServices/workspaces/fake-news-detection/#/experiments/66b00c20-dd83-40c0-ace4-b5e2e9ce1b02.\n"
          ]
        },
        {
          "data": {
            "text/html": [],
            "text/plain": [
              "<IPython.core.display.HTML object>"
            ]
          },
          "metadata": {},
          "output_type": "display_data"
        },
        {
          "data": {
            "text/html": [],
            "text/plain": [
              "<IPython.core.display.HTML object>"
            ]
          },
          "metadata": {},
          "output_type": "display_data"
        },
        {
          "name": "stdout",
          "output_type": "stream",
          "text": [
            "Training Accuracy: 0.9355\n",
            "Test Accuracy: 0.9020\n",
            "Validation Accuracy: 0.9020\n"
          ]
        },
        {
          "data": {
            "image/png": "[encoded data removed]",
            "text/plain": [
              "<Figure size 800x600 with 2 Axes>"
            ]
          },
          "metadata": {},
          "output_type": "display_data"
        },
        {
          "name": "stdout",
          "output_type": "stream",
          "text": [
            "Model and tokenizer saved successfully!\n"
          ]
        }
      ],
      "source": [
        "# ===== Step 1: Load and preprocess the dataset =====\n",
        "import pandas as pd\n",
        "\n",
        "# Load train_stances.csv and train_bodies.csv\n",
        "stances = pd.read_csv(\"train_stances.csv\")\n",
        "bodies = pd.read_csv(\"train_bodies.csv\")\n",
        "\n",
        "# Merge datasets on the 'Body ID' column\n",
        "data = pd.merge(stances, bodies, on=\"Body ID\")\n",
        "\n",
        "# Use a subset of the data for demonstration\n",
        "data = data.sample(frac=0.1, random_state=42)\n",
        "\n",
        "# Preprocess data\n",
        "data['label'] = data['Stance'].map({'agree': 0, 'disagree': 1, 'discuss': 2, 'unrelated': 3})\n",
        "data = data[['Headline', 'articleBody', 'label']]  # Keep relevant columns\n",
        "\n",
        "# Train-test split\n",
        "from sklearn.model_selection import train_test_split\n",
        "train_texts, test_texts, train_labels, test_labels = train_test_split(\n",
        "    list(zip(data['Headline'], data['articleBody'])), data['label'], test_size=0.2, random_state=42\n",
        ")\n",
        "\n",
        "# ===== Step 2: Tokenize and encode examples =====\n",
        "from transformers import DistilBertTokenizer\n",
        "from datasets import Dataset\n",
        "\n",
        "def encode_examples(texts, labels, tokenizer, max_length=512):\n",
        "    encodings = tokenizer(\n",
        "        [f\"{t[0]} [SEP] {t[1]}\" for t in texts],\n",
        "        truncation=True, padding=True, max_length=max_length\n",
        "    )\n",
        "    dataset = Dataset.from_dict({\"input_ids\": encodings[\"input_ids\"], \"attention_mask\": encodings[\"attention_mask\"], \"labels\": labels})\n",
        "    return dataset\n",
        "\n",
        "tokenizer = DistilBertTokenizer.from_pretrained(\"distilbert-base-uncased\")\n",
        "train_dataset = encode_examples(train_texts, train_labels, tokenizer)\n",
        "test_dataset = encode_examples(test_texts, test_labels, tokenizer)\n",
        "\n",
        "# ===== Step 3: Load the model and set up training =====\n",
        "from transformers import DistilBertForSequenceClassification, Trainer, TrainingArguments\n",
        "\n",
        "model = DistilBertForSequenceClassification.from_pretrained(\"distilbert-base-uncased\", num_labels=4)\n",
        "\n",
        "training_args = TrainingArguments(\n",
        "    output_dir=\"./results\",\n",
        "    evaluation_strategy=\"epoch\",\n",
        "    learning_rate=2e-5,\n",
        "    per_device_train_batch_size=8,\n",
        "    per_device_eval_batch_size=8,\n",
        "    num_train_epochs=2,\n",
        "    weight_decay=0.01,\n",
        "    save_strategy=\"epoch\",\n",
        "    load_best_model_at_end=True,\n",
        ")\n",
        "\n",
        "trainer = Trainer(\n",
        "    model=model,\n",
        "    args=training_args,\n",
        "    train_dataset=train_dataset,\n",
        "    eval_dataset=test_dataset,\n",
        "    tokenizer=tokenizer,\n",
        ")\n",
        "\n",
        "# ===== Step 4: Train and evaluate the model =====\n",
        "trainer.train()\n",
        "\n",
        "# ===== Step 5: Calculate training accuracy =====\n",
        "from sklearn.metrics import accuracy_score, confusion_matrix\n",
        "import numpy as np\n",
        "import matplotlib.pyplot as plt\n",
        "import seaborn as sns\n",
        "\n",
        "# Predict on the training dataset\n",
        "train_predictions = trainer.predict(train_dataset)\n",
        "train_pred_labels = np.argmax(train_predictions.predictions, axis=1)\n",
        "train_true_labels = train_labels.to_numpy()\n",
        "train_accuracy = accuracy_score(train_true_labels, train_pred_labels)\n",
        "\n",
        "# ===== Step 6: Calculate test accuracy =====\n",
        "test_predictions = trainer.predict(test_dataset)\n",
        "test_pred_labels = np.argmax(test_predictions.predictions, axis=1)\n",
        "test_true_labels = test_labels.to_numpy()\n",
        "test_accuracy = accuracy_score(test_true_labels, test_pred_labels)\n",
        "\n",
        "# ===== Step 7: Calculate validation accuracy =====\n",
        "# In this case, the test dataset is used for validation as no separate validation set exists\n",
        "val_accuracy = test_accuracy  # Replace with a separate validation set if available\n",
        "\n",
        "# ===== Step 8: Print accuracies =====\n",
        "print(f\"Training Accuracy: {train_accuracy:.4f}\")\n",
        "print(f\"Test Accuracy: {test_accuracy:.4f}\")\n",
        "print(f\"Validation Accuracy: {val_accuracy:.4f}\")\n",
        "\n",
        "# ===== Step 9: Plot confusion matrix for the test set =====\n",
        "conf_matrix = confusion_matrix(test_true_labels, test_pred_labels)\n",
        "plt.figure(figsize=(8, 6))\n",
        "sns.heatmap(conf_matrix, annot=True, fmt='d', cmap='Blues', xticklabels=['agree', 'disagree', 'discuss', 'unrelated'], yticklabels=['agree', 'disagree', 'discuss', 'unrelated'])\n",
        "plt.title('Confusion Matrix - Test Set')\n",
        "plt.xlabel('Predicted')\n",
        "plt.ylabel('True')\n",
        "plt.show()\n",
        "\n",
        "# ===== Step 10: Save the trained model and tokenizer =====\n",
        "model.save_pretrained(\"./stance-detection-model\")\n",
        "tokenizer.save_pretrained(\"./stance-detection-tokenizer\")\n",
        "\n",
        "print(\"Model and tokenizer saved successfully!\")\n"
      ]
    },
    {
      "cell_type": "code",
      "execution_count": 5,
      "metadata": {
        "gather": {
          "logged": 1734885855069
        },
        "jupyter": {
          "outputs_hidden": false,
          "source_hidden": false
        },
        "nteract": {
          "transient": {
            "deleting": false
          }
        }
      },
      "outputs": [
        {
          "name": "stdout",
          "output_type": "stream",
          "text": [
            "Columns in fake_news dataset:\n",
            "Index(['title', 'text', 'subject', 'date'], dtype='object')\n",
            "\n",
            "Columns in real_news dataset:\n",
            "Index(['title', 'text', 'subject', 'date'], dtype='object')\n",
            "\n",
            "Description of fake_news dataset:\n",
            "                                                    title   text subject  \\\n",
            "count                                               23481  23481   23481   \n",
            "unique                                              17903  17455       6   \n",
            "top     MEDIA IGNORES Time That Bill Clinton FIRED His...           News   \n",
            "freq                                                    6    626    9050   \n",
            "\n",
            "                date  \n",
            "count          23481  \n",
            "unique          1681  \n",
            "top     May 10, 2017  \n",
            "freq              46  \n",
            "\n",
            "Description of real_news dataset:\n",
            "                                                    title  \\\n",
            "count                                               21417   \n",
            "unique                                              20826   \n",
            "top     Factbox: Trump fills top jobs for his administ...   \n",
            "freq                                                   14   \n",
            "\n",
            "                                                     text       subject  \\\n",
            "count                                               21417         21417   \n",
            "unique                                              21192             2   \n",
            "top     (Reuters) - Highlights for U.S. President Dona...  politicsNews   \n",
            "freq                                                    8         11272   \n",
            "\n",
            "                      date  \n",
            "count                21417  \n",
            "unique                 716  \n",
            "top     December 20, 2017   \n",
            "freq                   182  \n"
          ]
        }
      ],
      "source": [
        "import pandas as pd\n",
        "\n",
        "fake_news = pd.read_csv(\"fake_news.csv\")\n",
        "real_news = pd.read_csv(\"real_news.csv\")\n",
        "\n",
        "# Print columns of the datasets\n",
        "print(\"Columns in fake_news dataset:\")\n",
        "print(fake_news.columns)\n",
        "\n",
        "print(\"\\nColumns in real_news dataset:\")\n",
        "print(real_news.columns)\n",
        "\n",
        "# Describe the datasets\n",
        "print(\"\\nDescription of fake_news dataset:\")\n",
        "print(fake_news.describe(include='all'))\n",
        "\n",
        "print(\"\\nDescription of real_news dataset:\")\n",
        "print(real_news.describe(include='all'))\n"
      ]
    },
    {
      "cell_type": "code",
      "execution_count": 6,
      "metadata": {
        "gather": {
          "logged": 1734885869043
        },
        "jupyter": {
          "outputs_hidden": false,
          "source_hidden": false
        },
        "nteract": {
          "transient": {
            "deleting": false
          }
        }
      },
      "outputs": [
        {
          "name": "stdout",
          "output_type": "stream",
          "text": [
            "Training Accuracy: 0.9912\n",
            "Testing Accuracy: 0.9880\n",
            "Validation Accuracy: 0.9875\n",
            "\n",
            "Classification Report (Test Set):\n",
            "              precision    recall  f1-score   support\n",
            "\n",
            "           0       0.99      0.99      0.99      3553\n",
            "           1       0.98      0.99      0.99      3182\n",
            "\n",
            "    accuracy                           0.99      6735\n",
            "   macro avg       0.99      0.99      0.99      6735\n",
            "weighted avg       0.99      0.99      0.99      6735\n",
            "\n"
          ]
        },
        {
          "data": {
            "image/png": "[encoded data removed]",
            "text/plain": [
              "<Figure size 800x600 with 2 Axes>"
            ]
          },
          "metadata": {},
          "output_type": "display_data"
        }
      ],
      "source": [
        "import pandas as pd\n",
        "import joblib\n",
        "from sklearn.model_selection import train_test_split\n",
        "from sklearn.feature_extraction.text import TfidfVectorizer\n",
        "from sklearn.linear_model import LogisticRegression\n",
        "from sklearn.metrics import classification_report, accuracy_score, confusion_matrix\n",
        "import matplotlib.pyplot as plt\n",
        "import seaborn as sns\n",
        "\n",
        "# ====== Step 1: Dataset Reading and Preprocessing ======\n",
        "\n",
        "# Load the datasets\n",
        "fake_news = pd.read_csv(\"fake_news.csv\")\n",
        "real_news = pd.read_csv(\"real_news.csv\")\n",
        "\n",
        "# Ensure required columns are present\n",
        "required_columns = ['title', 'text']\n",
        "for col in required_columns:\n",
        "    assert col in fake_news.columns, f\"Missing column in fake_news: {col}\"\n",
        "    assert col in real_news.columns, f\"Missing column in real_news: {col}\"\n",
        "\n",
        "# Add a label column for stance (1 for real, 0 for fake)\n",
        "fake_news['Stance'] = 0\n",
        "real_news['Stance'] = 1\n",
        "\n",
        "# Combine the two datasets\n",
        "data = pd.concat([fake_news, real_news], ignore_index=True)\n",
        "\n",
        "# Combine 'title' and 'text' into a single feature\n",
        "data['combined_text'] = data['title'] + \" \" + data['text']\n",
        "\n",
        "# Define features and target\n",
        "X = data['combined_text']  # Features: combined text\n",
        "y = data['Stance']  # Target: Stance\n",
        "\n",
        "# Split into train, test, and validation sets\n",
        "X_train, X_temp, y_train, y_temp = train_test_split(X, y, test_size=0.3, random_state=42)\n",
        "X_test, X_val, y_test, y_val = train_test_split(X_temp, y_temp, test_size=0.5, random_state=42)\n",
        "\n",
        "# ====== Step 2: Feature Transformation ======\n",
        "\n",
        "# Initialize a TF-IDF Vectorizer\n",
        "tfidf_vectorizer = TfidfVectorizer(max_features=5000)\n",
        "\n",
        "# Fit and transform the training data, transform the test and validation data\n",
        "X_train_tfidf = tfidf_vectorizer.fit_transform(X_train)\n",
        "X_test_tfidf = tfidf_vectorizer.transform(X_test)\n",
        "X_val_tfidf = tfidf_vectorizer.transform(X_val)\n",
        "\n",
        "# Save the vectorizer for future use\n",
        "joblib.dump(tfidf_vectorizer, \"log_tfidf_vectorizer.pkl\")\n",
        "\n",
        "# ====== Step 3: Logistic Regression Model Training ======\n",
        "\n",
        "# Initialize the Logistic Regression model\n",
        "log_reg = LogisticRegression(max_iter=1000)\n",
        "\n",
        "# Train the model\n",
        "log_reg.fit(X_train_tfidf, y_train)\n",
        "\n",
        "# Save the trained model\n",
        "joblib.dump(log_reg, \"logistic_regression_stance_model.pkl\")\n",
        "\n",
        "# ====== Step 4: Model Evaluation ======\n",
        "\n",
        "# Predict on the training set\n",
        "y_train_pred = log_reg.predict(X_train_tfidf)\n",
        "train_accuracy = accuracy_score(y_train, y_train_pred)\n",
        "\n",
        "# Predict on the test set\n",
        "y_test_pred = log_reg.predict(X_test_tfidf)\n",
        "test_accuracy = accuracy_score(y_test, y_test_pred)\n",
        "\n",
        "# Predict on the validation set\n",
        "y_val_pred = log_reg.predict(X_val_tfidf)\n",
        "val_accuracy = accuracy_score(y_val, y_val_pred)\n",
        "\n",
        "# Print the accuracies\n",
        "print(f\"Training Accuracy: {train_accuracy:.4f}\")\n",
        "print(f\"Testing Accuracy: {test_accuracy:.4f}\")\n",
        "print(f\"Validation Accuracy: {val_accuracy:.4f}\")\n",
        "\n",
        "# Generate a classification report for the test set\n",
        "print(\"\\nClassification Report (Test Set):\")\n",
        "print(classification_report(y_test, y_test_pred))\n",
        "\n",
        "# Confusion matrix for the test set\n",
        "conf_matrix = confusion_matrix(y_test, y_test_pred)\n",
        "plt.figure(figsize=(8, 6))\n",
        "sns.heatmap(conf_matrix, annot=True, fmt='d', cmap='Blues', xticklabels=['Fake', 'Real'], yticklabels=['Fake', 'Real'])\n",
        "plt.title(\"Confusion Matrix - Test Set\")\n",
        "plt.xlabel(\"Predicted\")\n",
        "plt.ylabel(\"Actual\")\n",
        "plt.show()\n"
      ]
    },
    {
      "cell_type": "code",
      "execution_count": 7,
      "metadata": {
        "gather": {
          "logged": 1734885897596
        },
        "jupyter": {
          "outputs_hidden": false,
          "source_hidden": false
        },
        "nteract": {
          "transient": {
            "deleting": false
          }
        }
      },
      "outputs": [
        {
          "name": "stdout",
          "output_type": "stream",
          "text": [
            "Training Accuracy: 1.0000\n",
            "Testing Accuracy: 0.9972\n",
            "Validation Accuracy: 0.9988\n",
            "\n",
            "Classification Report (Test Set):\n",
            "              precision    recall  f1-score   support\n",
            "\n",
            "           0       1.00      1.00      1.00      3553\n",
            "           1       1.00      1.00      1.00      3182\n",
            "\n",
            "    accuracy                           1.00      6735\n",
            "   macro avg       1.00      1.00      1.00      6735\n",
            "weighted avg       1.00      1.00      1.00      6735\n",
            "\n"
          ]
        },
        {
          "data": {
            "image/png": "[encoded data removed]",
            "text/plain": [
              "<Figure size 800x600 with 2 Axes>"
            ]
          },
          "metadata": {},
          "output_type": "display_data"
        }
      ],
      "source": [
        "import pandas as pd\n",
        "import joblib\n",
        "from sklearn.model_selection import train_test_split\n",
        "from sklearn.feature_extraction.text import TfidfVectorizer\n",
        "from xgboost import XGBClassifier\n",
        "from sklearn.metrics import classification_report, accuracy_score, confusion_matrix\n",
        "import matplotlib.pyplot as plt\n",
        "import seaborn as sns\n",
        "\n",
        "# ====== Step 1: Dataset Reading and Preprocessing ======\n",
        "\n",
        "# Load the datasets\n",
        "fake_news = pd.read_csv(\"fake_news.csv\")\n",
        "real_news = pd.read_csv(\"real_news.csv\")\n",
        "\n",
        "# Ensure required columns are present\n",
        "required_columns = ['title', 'text']\n",
        "for col in required_columns:\n",
        "    assert col in fake_news.columns, f\"Missing column in fake_news: {col}\"\n",
        "    assert col in real_news.columns, f\"Missing column in real_news: {col}\"\n",
        "\n",
        "# Add a label column for stance (1 for real, 0 for fake)\n",
        "fake_news['Stance'] = 0\n",
        "real_news['Stance'] = 1\n",
        "\n",
        "# Combine the two datasets\n",
        "data = pd.concat([fake_news, real_news], ignore_index=True)\n",
        "\n",
        "# Combine 'title' and 'text' into a single feature\n",
        "data['combined_text'] = data['title'] + \" \" + data['text']\n",
        "\n",
        "# Define features and target\n",
        "X = data['combined_text']  # Features: combined text\n",
        "y = data['Stance']  # Target: Stance\n",
        "\n",
        "# Split into train, test, and validation sets\n",
        "X_train, X_temp, y_train, y_temp = train_test_split(X, y, test_size=0.3, random_state=42)\n",
        "X_test, X_val, y_test, y_val = train_test_split(X_temp, y_temp, test_size=0.5, random_state=42)\n",
        "\n",
        "# ====== Step 2: Feature Transformation ======\n",
        "\n",
        "# Initialize a TF-IDF Vectorizer\n",
        "tfidf_vectorizer = TfidfVectorizer(max_features=5000)\n",
        "\n",
        "# Fit and transform the training data, transform the test and validation data\n",
        "X_train_tfidf = tfidf_vectorizer.fit_transform(X_train)\n",
        "X_test_tfidf = tfidf_vectorizer.transform(X_test)\n",
        "X_val_tfidf = tfidf_vectorizer.transform(X_val)\n",
        "\n",
        "# Save the vectorizer for future use\n",
        "joblib.dump(tfidf_vectorizer, \"xgb_tfidf_vectorizer.pkl\")\n",
        "\n",
        "# ====== Step 3: XGBoost Model Training ======\n",
        "\n",
        "# Initialize the XGBoost classifier\n",
        "xgb_model = XGBClassifier(use_label_encoder=False, eval_metric='logloss')\n",
        "\n",
        "# Train the model\n",
        "xgb_model.fit(X_train_tfidf, y_train)\n",
        "\n",
        "# Save the trained model\n",
        "joblib.dump(xgb_model, \"xgboost_stance_model.pkl\")\n",
        "\n",
        "# ====== Step 4: Model Evaluation ======\n",
        "\n",
        "# Predict on the training set\n",
        "y_train_pred = xgb_model.predict(X_train_tfidf)\n",
        "train_accuracy = accuracy_score(y_train, y_train_pred)\n",
        "\n",
        "# Predict on the test set\n",
        "y_test_pred = xgb_model.predict(X_test_tfidf)\n",
        "test_accuracy = accuracy_score(y_test, y_test_pred)\n",
        "\n",
        "# Predict on the validation set\n",
        "y_val_pred = xgb_model.predict(X_val_tfidf)\n",
        "val_accuracy = accuracy_score(y_val, y_val_pred)\n",
        "\n",
        "# Print the accuracies\n",
        "print(f\"Training Accuracy: {train_accuracy:.4f}\")\n",
        "print(f\"Testing Accuracy: {test_accuracy:.4f}\")\n",
        "print(f\"Validation Accuracy: {val_accuracy:.4f}\")\n",
        "\n",
        "# Generate a classification report for the test set\n",
        "print(\"\\nClassification Report (Test Set):\")\n",
        "print(classification_report(y_test, y_test_pred))\n",
        "\n",
        "# Confusion matrix for the test set\n",
        "conf_matrix = confusion_matrix(y_test, y_test_pred)\n",
        "plt.figure(figsize=(8, 6))\n",
        "sns.heatmap(conf_matrix, annot=True, fmt='d', cmap='Blues', xticklabels=['Fake', 'Real'], yticklabels=['Fake', 'Real'])\n",
        "plt.title(\"Confusion Matrix - Test Set\")\n",
        "plt.xlabel(\"Predicted\")\n",
        "plt.ylabel(\"Actual\")\n",
        "plt.show()\n"
      ]
    },
    {
      "cell_type": "code",
      "execution_count": 2,
      "metadata": {
        "gather": {
          "logged": 1734895921555
        },
        "jupyter": {
          "outputs_hidden": false,
          "source_hidden": false
        },
        "nteract": {
          "transient": {
            "deleting": false
          }
        }
      },
      "outputs": [
        {
          "name": "stdout",
          "output_type": "stream",
          "text": [
            "Sample predictions: [3, 2, 2, 2, 2, 2, 2, 2, 2, 2]\n",
            "Sample true labels: [0, 0, 1, 1, 1, 1, 1, 0, 1, 1]\n",
            "Sample predictions: [2, 0, 2, 2, 2, 2, 2, 3, 2, 0]\n",
            "Sample true labels: [1, 0, 1, 1, 1, 0, 0, 0, 1, 0]\n",
            "Sample predictions: [3, 2, 3, 2, 2, 3, 3, 2, 3, 2]\n",
            "Sample true labels: [0, 1, 0, 1, 0, 0, 0, 1, 1, 0]\n",
            "Training Accuracy: 0.0724\n",
            "Testing Accuracy: 0.0704\n",
            "Validation Accuracy: 0.0701\n"
          ]
        },
        {
          "data": {
            "image/png": "[encoded data removed]",
            "text/plain": [
              "<Figure size 800x600 with 2 Axes>"
            ]
          },
          "metadata": {},
          "output_type": "display_data"
        }
      ],
      "source": [
        "import pandas as pd\n",
        "import torch\n",
        "from sklearn.model_selection import train_test_split\n",
        "from sklearn.metrics import classification_report, accuracy_score, confusion_matrix\n",
        "import matplotlib.pyplot as plt\n",
        "import seaborn as sns\n",
        "from transformers import DistilBertTokenizer, DistilBertForSequenceClassification\n",
        "\n",
        "# ====== Step 1: Dataset Reading and Preprocessing ======\n",
        "\n",
        "# Load the datasets\n",
        "fake_news = pd.read_csv(\"fake_news.csv\")\n",
        "real_news = pd.read_csv(\"real_news.csv\")\n",
        "\n",
        "# Ensure required columns are present\n",
        "required_columns = ['title', 'text']\n",
        "for col in required_columns:\n",
        "    assert col in fake_news.columns, f\"Missing column in fake_news: {col}\"\n",
        "    assert col in real_news.columns, f\"Missing column in real_news: {col}\"\n",
        "\n",
        "# Add a label column for stance (1 for real, 0 for fake)\n",
        "fake_news['Stance'] = 0\n",
        "real_news['Stance'] = 1\n",
        "\n",
        "# Combine the two datasets\n",
        "data = pd.concat([fake_news, real_news], ignore_index=True)\n",
        "data = data.sample(frac=0.5, random_state=42)  # Use 1% of data for testing\n",
        "\n",
        "# Combine 'title' and 'text' into a single feature\n",
        "data['combined_text'] = data['title'] + \" \" + data['text']\n",
        "\n",
        "# Define features and target\n",
        "X = data['combined_text'].tolist()  # Features: combined text\n",
        "y = data['Stance'].tolist()  # Target: Stance\n",
        "\n",
        "# Split into train, test, and validation sets\n",
        "X_train, X_temp, y_train, y_temp = train_test_split(X, y, test_size=0.3, random_state=42)\n",
        "X_test, X_val, y_test, y_val = train_test_split(X_temp, y_temp, test_size=0.5, random_state=42)\n",
        "\n",
        "# ====== Step 2: Load the DistilBERT Model and Tokenizer ======\n",
        "\n",
        "# Load the pre-trained DistilBERT model and tokenizer from the saved folder\n",
        "device = torch.device(\"cuda\" if torch.cuda.is_available() else \"cpu\")\n",
        "model = DistilBertForSequenceClassification.from_pretrained(\"./stance-detection-model\").to(device)\n",
        "tokenizer = DistilBertTokenizer.from_pretrained(\"./stance-detection-tokenizer\")\n",
        "\n",
        "# ====== Step 3: Tokenize and Encode the Dataset ======\n",
        "\n",
        "def encode_texts(texts, tokenizer, max_length=256):\n",
        "    \"\"\"Tokenize and encode the dataset.\"\"\"\n",
        "    encodings = tokenizer(\n",
        "        texts, truncation=True, padding=True, max_length=max_length, return_tensors=\"pt\"\n",
        "    )\n",
        "    return encodings\n",
        "\n",
        "def create_data_loader(X, y, batch_size=16, max_length=256):\n",
        "    \"\"\"Create a PyTorch DataLoader for batching.\"\"\"\n",
        "    encodings = encode_texts(X, tokenizer, max_length=max_length)\n",
        "    labels = torch.tensor(y)\n",
        "    dataset = torch.utils.data.TensorDataset(encodings[\"input_ids\"], encodings[\"attention_mask\"], labels)\n",
        "    return torch.utils.data.DataLoader(dataset, batch_size=batch_size)\n",
        "\n",
        "# Create DataLoaders\n",
        "train_loader = create_data_loader(X_train, y_train)\n",
        "test_loader = create_data_loader(X_test, y_test)\n",
        "val_loader = create_data_loader(X_val, y_val)\n",
        "\n",
        "# ====== Step 4: Evaluate the Model ======\n",
        "\n",
        "def evaluate_model(model, data_loader):\n",
        "    model.eval()\n",
        "    predictions = []\n",
        "    true_labels = []\n",
        "\n",
        "    with torch.no_grad():\n",
        "        for batch in data_loader:\n",
        "            input_ids, attention_mask, labels = [x.to(device) for x in batch]\n",
        "            outputs = model(input_ids=input_ids, attention_mask=attention_mask)\n",
        "            preds = torch.argmax(outputs.logits, axis=1)\n",
        "\n",
        "            predictions.extend(preds.cpu().numpy())\n",
        "            true_labels.extend(labels.cpu().numpy())\n",
        "\n",
        "    # Print a sample of predictions and true labels\n",
        "    print(\"Sample predictions:\", predictions[:10])\n",
        "    print(\"Sample true labels:\", true_labels[:10])\n",
        "\n",
        "    accuracy = accuracy_score(true_labels, predictions)\n",
        "    return predictions, true_labels, accuracy\n",
        "\n",
        "# Evaluate model\n",
        "_, train_labels, train_accuracy = evaluate_model(model, train_loader)\n",
        "test_predictions, test_labels, test_accuracy = evaluate_model(model, test_loader)\n",
        "_, val_labels, val_accuracy = evaluate_model(model, val_loader)\n",
        "\n",
        "# ====== Step 5: Print Accuracies ======\n",
        "print(f\"Training Accuracy: {train_accuracy:.4f}\")\n",
        "print(f\"Testing Accuracy: {test_accuracy:.4f}\")\n",
        "print(f\"Validation Accuracy: {val_accuracy:.4f}\")\n",
        "\n",
        "# ====== Step 7: Plot Confusion Matrix ======\n",
        "conf_matrix = confusion_matrix(test_labels, test_predictions, labels=[0, 1])\n",
        "plt.figure(figsize=(8, 6))\n",
        "sns.heatmap(conf_matrix, annot=True, fmt='d', cmap='Blues', xticklabels=['Fake', 'Real'], yticklabels=['Fake', 'Real'])\n",
        "plt.title(\"Confusion Matrix - Test Set\")\n",
        "plt.xlabel(\"Predicted\")\n",
        "plt.ylabel(\"Actual\")\n",
        "plt.show()\n"
      ]
    }
  ],
  "metadata": {
    "kernel_info": {
      "name": "python38-azureml"
    },
    "kernelspec": {
      "display_name": "Python 3.8 - AzureML",
      "language": "python",
      "name": "python38-azureml"
    },
    "language_info": {
      "codemirror_mode": {
        "name": "ipython",
        "version": 3
      },
      "file_extension": ".py",
      "mimetype": "text/x-python",
      "name": "python",
      "nbconvert_exporter": "python",
      "pygments_lexer": "ipython3",
      "version": "3.10.11"
    },
    "microsoft": {
      "host": {
        "AzureML": {
          "notebookHasBeenCompleted": true
        }
      },
      "ms_spell_check": {
        "ms_spell_check_language": "en"
      }
    },
    "nteract": {
      "version": "nteract-front-end@1.0.0"
    }
  },
  "nbformat": 4,
  "nbformat_minor": 2
}
